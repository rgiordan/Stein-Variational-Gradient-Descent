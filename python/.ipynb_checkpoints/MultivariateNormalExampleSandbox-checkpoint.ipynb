{
 "cells": [
  {
   "cell_type": "code",
   "execution_count": 28,
   "metadata": {
    "collapsed": false
   },
   "outputs": [
    {
     "name": "stdout",
     "output_type": "stream",
     "text": [
      "ground truth:  [-0.6871  0.801 ]\n",
      "svgd:  [-0.68735551  0.80188102]\n",
      "ground truth variance:  [ 5.38381802  1.79487074]\n",
      "svgd:  [ 5.25306155  1.75764204]\n"
     ]
    }
   ],
   "source": [
    "import numpy as np\n",
    "import numpy.matlib as nm\n",
    "from svgd import SVGD\n",
    "\n",
    "class MVN:\n",
    "    def __init__(self, mu, A):\n",
    "        self.mu = mu\n",
    "        self.A = A\n",
    "    \n",
    "    def dlnprob(self, theta):\n",
    "        return -1 * np.matmul(theta - nm.repmat(self.mu, theta.shape[0], 1), self.A)\n",
    "    \n",
    "if __name__ == '__main__':\n",
    "    A = np.array([[0.2260,0.1652],[0.1652,0.6779]])\n",
    "    mu = np.array([-0.6871,0.8010])\n",
    "    \n",
    "    model = MVN(mu, A)\n",
    "    \n",
    "    # Note that the variance is underestimated when the number of draws is small, and that\n",
    "    # at 500 draws inference is pretty slow.\n",
    "    num_draws = 500\n",
    "    x0 = np.random.normal(0,1, [num_draws,2]);\n",
    "    A_var = np.diagonal(np.linalg.inv(A))\n",
    "    theta = SVGD().update(x0, model.dlnprob, n_iter=1000, stepsize=0.01)\n",
    "    \n",
    "    print \"ground truth: \", mu\n",
    "    print \"svgd: \", np.mean(theta, axis=0)\n",
    "\n",
    "    print \"ground truth variance: \", A_var\n",
    "    print \"svgd: \", np.var(theta, axis=0)\n"
   ]
  },
  {
   "cell_type": "code",
   "execution_count": 18,
   "metadata": {
    "collapsed": false
   },
   "outputs": [
    {
     "name": "stdout",
     "output_type": "stream",
     "text": [
      "[[-0.6871  0.801 ]\n",
      " [-0.6871  0.801 ]]\n",
      "[[-0.1552846   0.1323252 ]\n",
      " [-0.11350892  0.5429979 ]]\n",
      "[[-0.0229594   0.42948898]\n",
      " [-0.0229594   0.42948898]]\n",
      "[[ 0.5793594   1.09151102]\n",
      " [ 0.5793594   1.09151102]]\n",
      "[[-0.5793594  -1.09151102]\n",
      " [-0.5793594  -1.09151102]]\n"
     ]
    }
   ],
   "source": [
    "A = np.array([[0.2260,0.1652],[0.1652,0.6779]])\n",
    "mu = np.array([-0.6871,0.8010])\n",
    "theta = np.array([1, 2])\n",
    "\n",
    "foo = nm.repmat(mu, 2, 1)\n",
    "print foo\n",
    "print foo * A\n",
    "print np.matmul(foo, A)\n",
    "\n",
    "print np.matmul(theta - nm.repmat(mu, theta.shape[0], 1), A)\n",
    "\n",
    "model = MVN(mu, A)\n",
    "print model.dlnprob(theta)"
   ]
  }
 ],
 "metadata": {
  "kernelspec": {
   "display_name": "Python [Root]",
   "language": "python",
   "name": "Python [Root]"
  },
  "language_info": {
   "codemirror_mode": {
    "name": "ipython",
    "version": 2
   },
   "file_extension": ".py",
   "mimetype": "text/x-python",
   "name": "python",
   "nbconvert_exporter": "python",
   "pygments_lexer": "ipython2",
   "version": "2.7.12"
  }
 },
 "nbformat": 4,
 "nbformat_minor": 0
}
