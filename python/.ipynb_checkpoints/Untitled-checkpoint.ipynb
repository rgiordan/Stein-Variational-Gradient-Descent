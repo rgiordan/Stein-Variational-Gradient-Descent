{
 "cells": [
  {
   "cell_type": "code",
   "execution_count": 2,
   "metadata": {
    "collapsed": false
   },
   "outputs": [
    {
     "name": "stdout",
     "output_type": "stream",
     "text": [
      "ground truth:  [-0.6871  0.801 ]\n",
      "svgd:  [-0.68778225  0.79799469]\n"
     ]
    }
   ],
   "source": [
    "import numpy as np\n",
    "import numpy.matlib as nm\n",
    "from svgd import SVGD\n",
    "\n",
    "class MVN:\n",
    "    def __init__(self, mu, A):\n",
    "        self.mu = mu\n",
    "        self.A = A\n",
    "    \n",
    "    def dlnprob(self, theta):\n",
    "        return -1*np.matmul(theta-nm.repmat(self.mu, theta.shape[0], 1), self.A)\n",
    "    \n",
    "if __name__ == '__main__':\n",
    "    A = np.array([[0.2260,0.1652],[0.1652,0.6779]])\n",
    "    mu = np.array([-0.6871,0.8010])\n",
    "    \n",
    "    model = MVN(mu, A)\n",
    "    \n",
    "    x0 = np.random.normal(0,1, [10,2]);\n",
    "    theta = SVGD().update(x0, model.dlnprob, n_iter=1000, stepsize=0.01, debug=true)\n",
    "    \n",
    "    print \"ground truth: \", mu\n",
    "    print \"svgd: \", np.mean(theta,axis=0)\n"
   ]
  }
 ],
 "metadata": {
  "kernelspec": {
   "display_name": "Python [Root]",
   "language": "python",
   "name": "Python [Root]"
  },
  "language_info": {
   "codemirror_mode": {
    "name": "ipython",
    "version": 2
   },
   "file_extension": ".py",
   "mimetype": "text/x-python",
   "name": "python",
   "nbconvert_exporter": "python",
   "pygments_lexer": "ipython2",
   "version": "2.7.12"
  }
 },
 "nbformat": 4,
 "nbformat_minor": 0
}
